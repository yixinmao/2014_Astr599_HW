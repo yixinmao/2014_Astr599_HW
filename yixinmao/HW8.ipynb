{
 "metadata": {
  "name": "",
  "signature": "sha256:f961079bfa871c53c29c518338e36a496071cdf19fa0f776df23b167747b48b6"
 },
 "nbformat": 3,
 "nbformat_minor": 0,
 "worksheets": [
  {
   "cells": [
    {
     "cell_type": "code",
     "collapsed": false,
     "input": [
      "\"\"\"\n",
      "A script to compare different root-finding algorithms.\n",
      "\n",
      "This version of the script is buggy and does not execute. It is your task\n",
      "to find an fix these bugs.\n",
      "\n",
      "The output of the script sould look like:\n",
      "\n",
      "    Benching 1D root-finder optimizers from scipy.optimize:\n",
      "                brenth:   604678 total function calls\n",
      "                brentq:   594454 total function calls\n",
      "                ridder:   778394 total function calls\n",
      "                bisect:  2148380 total function calls\n",
      "\"\"\"\n",
      "from itertools import product\n",
      "\n",
      "import numpy as np\n",
      "from scipy import optimize\n",
      "\n",
      "FUNCTIONS = (np.tan,  # Dilating map\n",
      "             np.tanh, # Contracting map\n",
      "             lambda x: x**3 + 1e-4*x, # Almost null gradient at the root\n",
      "             lambda x: x+np.sin(2*x), # Non monotonous function\n",
      "             lambda x: 1.1*x+np.sin(4*x), # Fonction with several local maxima\n",
      "            )\n",
      "\n",
      "OPTIMIZERS = (optimize.brenth, optimize.brentq,\n",
      "              optimize.ridder, optimize.bisect)\n",
      "\n",
      "def apply_optimizer(optimizer, func, a, b):\n",
      "    \"\"\" Return the number of function calls given an root-finding optimizer, \n",
      "        a function and upper and lower bounds.\n",
      "    \"\"\"\n",
      "    ncalls = optimizer(func, a, b, full_output=True)[1].function_calls,\n",
      "    return ncalls[0]\n",
      "\n",
      "\n",
      "def bench_optimizer(optimizer, param_grid):\n",
      "    \"\"\" Find roots for all the functions, and upper and lower bounds\n",
      "        given and return the total number of function calls.\n",
      "    \"\"\"\n",
      "#    if optimizer==optimize.brentq:\n",
      "#        count = 0\n",
      "#        for func, a, b in param_grid:\n",
      "#            print func, a, b\n",
      "#            print apply_optimizer(optimizer, func, a, b)\n",
      "#            count = count + 1\n",
      "#            if count > 100:\n",
      "#                break\n",
      "        \n",
      "    return sum(apply_optimizer(optimizer, func, a, b)\n",
      "               for func, a, b in param_grid)\n",
      "\n",
      "\n",
      "def compare_optimizers(optimizers):\n",
      "    \"\"\" Compare all the optimizers given on a grid of a few different\n",
      "        functions all admitting a signle root in zero and a upper and\n",
      "        lower bounds.\n",
      "    \"\"\"\n",
      "    random_a = -1.3 + np.random.random(size=100)\n",
      "    random_b =   .3 + np.random.random(size=100)\n",
      "    print(\"Benching 1D root-finder optimizers from scipy.optimize:\")\n",
      "    for optimizer in OPTIMIZERS:\n",
      "        param_grid = product(FUNCTIONS, random_a, random_b)\n",
      "        ncalls = bench_optimizer(optimizer, param_grid)\n",
      "        print('{name}: {ncalls} total function calls'.format(\n",
      "                  name=optimizer.__name__, ncalls=ncalls))\n",
      "\n",
      "\n",
      "if __name__ == '__main__':\n",
      "    compare_optimizers(OPTIMIZERS)"
     ],
     "language": "python",
     "metadata": {},
     "outputs": [
      {
       "output_type": "stream",
       "stream": "stdout",
       "text": [
        "Benching 1D root-finder optimizers from scipy.optimize:\n",
        "brenth: 603723 total function calls"
       ]
      },
      {
       "output_type": "stream",
       "stream": "stdout",
       "text": [
        "\n",
        "brentq: 593712 total function calls"
       ]
      },
      {
       "output_type": "stream",
       "stream": "stdout",
       "text": [
        "\n",
        "ridder: 772848 total function calls"
       ]
      },
      {
       "output_type": "stream",
       "stream": "stdout",
       "text": [
        "\n",
        "bisect: 2148370 total function calls"
       ]
      },
      {
       "output_type": "stream",
       "stream": "stdout",
       "text": [
        "\n"
       ]
      }
     ],
     "prompt_number": 24
    },
    {
     "cell_type": "markdown",
     "metadata": {},
     "source": [
      "First, fixing syntax Errors and runtime errors\n",
      "1. Error in bench_optimizer function\n",
      "a) I printed out apply_optimizer(optimizer, func, a, b) in function 'banch_optimizer' before the error:\n",
      "        for func, a, b in param_grid:\n",
      "            print func, a, b\n",
      "            print apply_optimizer(optimizer, func, a, b)\n",
      "It appeared that 'apply_optimizer' returns a tupple instead of an integer, so I editted function 'apply_optimizer' to let it return an integer number.\n",
      "2. Now the script can run, but only the first optimizer returns reasonable value, and the following optimizers all return 0. So in 'bench_optimizer' function I tried to print the same thing as above when optimizer==optimize.brentq (which is the second optimizer). It turned out that 'param_grid' did not contain anything from the second optimizer. So I moved the line:\n",
      "        param_grid = product(FUNCTIONS, random_a, random_b)\n",
      "into the optimizer loop, and the script generated reasonable results:\n",
      "\n",
      "        Benching 1D root-finder optimizers from scipy.optimize:\n",
      "        brenth: 603723 total function calls\n",
      "        brentq: 593712 total function calls\n",
      "        ridder: 772848 total function calls\n",
      "        bisect: 2148370 total function calls\n",
      "\n",
      "It gives slightly different results every run because the script has random number generation in it, but the results are generally similar."
     ]
    },
    {
     "cell_type": "code",
     "collapsed": false,
     "input": [],
     "language": "python",
     "metadata": {},
     "outputs": []
    }
   ],
   "metadata": {}
  }
 ]
}